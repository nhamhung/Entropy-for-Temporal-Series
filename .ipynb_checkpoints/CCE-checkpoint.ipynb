{
 "cells": [
  {
   "cell_type": "code",
   "execution_count": 4,
   "metadata": {},
   "outputs": [],
   "source": [
    "import numpy as np\n",
    "from entropy import *"
   ]
  },
  {
   "cell_type": "code",
   "execution_count": 5,
   "metadata": {
    "pycharm": {
     "name": "#%%\n"
    }
   },
   "outputs": [
    {
     "name": "stdout",
     "output_type": "stream",
     "text": [
      "Original series: [1 2 3 4 5 6]\n",
      "Normalized series: [-1.33630621 -0.80178373 -0.26726124  0.26726124  0.80178373  1.33630621]\n",
      "epsilon: 0.5345224838248488\n",
      "partition: [-1.33630621 -0.80178373 -0.26726124  0.26726124  0.80178373  1.33630621]\n",
      "codebook: [-1  0  1  2  3  4  5]\n",
      "Uniform quantification of the time series:\n",
      "quantizations before: [-1  0  1  2  3  4]\n",
      "quantizations after: [0 0 1 2 3 4]\n",
      "Compose patterns of length 'L':\n",
      "X:\n",
      " [[0. 0. 1. 2. 3. 4.]\n",
      " [0. 1. 2. 3. 4. 0.]\n",
      " [1. 2. 3. 4. 0. 0.]]\n",
      "Eliminate last 'L-1' columns of 'X' since they are not real patterns\n",
      "X after\n",
      ": [[0. 0. 1. 2.]\n",
      " [0. 1. 2. 3.]\n",
      " [1. 2. 3. 4.]]\n",
      "Get the number of repetitions of each pattern by going through columns of 'X':\n",
      "col j of X: [0. 0. 1.]\n",
      "col i (j+1 onwards) of X: [0. 1. 2.]\n",
      "col j of X: [0. 0. 1.]\n",
      "col i (j+1 onwards) of X: [1. 2. 3.]\n",
      "col j of X: [0. 0. 1.]\n",
      "col i (j+1 onwards) of X: [2. 3. 4.]\n",
      "col j of X: [0. 1. 2.]\n",
      "col i (j+1 onwards) of X: [1. 2. 3.]\n",
      "col j of X: [0. 1. 2.]\n",
      "col i (j+1 onwards) of X: [2. 3. 4.]\n",
      "col j of X: [1. 2. 3.]\n",
      "col i (j+1 onwards) of X: [2. 3. 4.]\n",
      "Number of patterns: [1. 1. 1. 1.]\n",
      "Number of patterns which have appeared only once: 4.0\n",
      "Probability of each pattern\n",
      "p_i [0.25 0.25 0.25 0.25]\n",
      "Compute Shannon Entropy: 1.3862943611198906\n"
     ]
    },
    {
     "data": {
      "text/plain": [
       "(array(1.38629436), 4.0)"
      ]
     },
     "execution_count": 5,
     "metadata": {},
     "output_type": "execute_result"
    }
   ],
   "source": [
    "shannon_entropy_with_comments(np.array([1,2,3,4,5,6]), 3, 5)"
   ]
  },
  {
   "cell_type": "code",
   "execution_count": 3,
   "metadata": {
    "pycharm": {
     "name": "#%%\n"
    }
   },
   "outputs": [
    {
     "name": "stdout",
     "output_type": "stream",
     "text": [
      "Calculate Shanon entropy for series with embedding dimension 'L': 1.3862943611198906 , number of unique patterns: 4.0\n",
      "Calculate Shanon entropy for series with embedding dimension 'L-1': 1.3862943611198906 , number of unique patterns: 4.0\n",
      "Conditional entropy: -0.22314355131420993\n"
     ]
    },
    {
     "data": {
      "text/plain": [
       "(-0.22314355131420993, 4.0)"
      ]
     },
     "execution_count": 3,
     "metadata": {},
     "output_type": "execute_result"
    }
   ],
   "source": [
    "conditional_entropy_with_comments(np.array([1,2,3,4,5,6]), 3, 5)"
   ]
  },
  {
   "cell_type": "code",
   "execution_count": 4,
   "metadata": {
    "pycharm": {
     "name": "#%%\n"
    }
   },
   "outputs": [
    {
     "name": "stdout",
     "output_type": "stream",
     "text": [
      "Calculate Ê(1) with 'L=1' which will be used to calculate the corrective term: 1.5607104090414063\n",
      "CCE will be a vector that will contain several CCE values computed:\n",
      "We loop for different value of embedding dimensions 'L':\n",
      "\n",
      "L: 2 \n",
      "\n",
      "First, compute CE for the current embedding dimension:\n",
      "CE: [      nan 0.0487275       nan]\n",
      "uniques: [nan  5. nan]\n",
      "Second, compute the percentage of patterns which are not repeated\n",
      "perc_L: 1.0\n",
      "Ê(1): 1.5607104090414063\n",
      "CCE is CE + corrective term:\n",
      "correct_term: [       nan 1.56071041        nan]\n",
      "CCE: [100.           1.60943791          nan]\n",
      "\n",
      "L: 3 \n",
      "\n",
      "First, compute CE for the current embedding dimension:\n",
      "CE: [        nan  0.0487275  -0.22314355]\n",
      "uniques: [nan  5.  4.]\n",
      "Second, compute the percentage of patterns which are not repeated\n",
      "perc_L: 1.0\n",
      "Ê(1): 1.5607104090414063\n",
      "CCE is CE + corrective term:\n",
      "correct_term: [       nan 1.56071041 1.56071041]\n",
      "CCE: [100.           1.60943791   1.33756686]\n",
      "\n",
      "Final CCE: [100.           1.60943791   1.33756686]\n",
      "Get min CCE value: 1.3375668577271964\n"
     ]
    },
    {
     "data": {
      "text/plain": [
       "1.3375668577271964"
      ]
     },
     "execution_count": 4,
     "metadata": {},
     "output_type": "execute_result"
    }
   ],
   "source": [
    "corrected_conditional_entropy_with_comments(np.array([1,2,3,4,5,6]), 3, 5)\n"
   ]
  },
  {
   "cell_type": "code",
   "execution_count": 6,
   "metadata": {
    "pycharm": {
     "name": "#%%\n"
    }
   },
   "outputs": [
    {
     "name": "stdout",
     "output_type": "stream",
     "text": [
      "Third element randomized: [1 2 5 1 2 0 1 2 6]\n",
      "More regular array: [1 2 3 1 2 3 1 2 3]\n"
     ]
    }
   ],
   "source": [
    "import random\n",
    "irregular_array = []\n",
    "for i in range(3):\n",
    "    irregular_array.extend([1,2,random.randint(0,10)])\n",
    "irregular_array = np.array(irregular_array)\n",
    "\n",
    "regular_array = np.tile(np.array([1,2,3]), 3)\n",
    "print(\"Third element randomized:\", irregular_array)\n",
    "print(\"More regular array:\", regular_array)"
   ]
  },
  {
   "cell_type": "code",
   "execution_count": 7,
   "metadata": {
    "pycharm": {
     "name": "#%%\n"
    }
   },
   "outputs": [
    {
     "name": "stdout",
     "output_type": "stream",
     "text": [
      "Shannon entropy for more regular array: 1.0549201679861442\n",
      "Conditional entropy for more regular array: -0.043692120681965374\n",
      "Corrected conditional entropy for more regular array: -0.01641675862934222\n",
      "\n",
      "\n",
      "Shannon entropy: 1.6094379124341005\n",
      "Conditional entropy: -0.18232155679395423\n",
      "Corrected conditional entropy: 1.11815578909524\n"
     ]
    }
   ],
   "source": [
    "print(\"Shannon entropy for more regular array:\", shannon_entropy(regular_array, 5, 10)[0])\n",
    "print(\"Conditional entropy for more regular array:\", conditional_entropy(regular_array, 5, 10)[0])\n",
    "print(\"Corrected conditional entropy for more regular array:\", corrected_conditional_entropy(regular_array, 5, 10))\n",
    "\n",
    "print(\"\\n\")\n",
    "\n",
    "print(\"Shannon entropy:\", shannon_entropy(irregular_array, 5, 10)[0])\n",
    "print(\"Conditional entropy:\", conditional_entropy(irregular_array, 5, 10)[0])\n",
    "print(\"Corrected conditional entropy:\", corrected_conditional_entropy(irregular_array, 5, 10))"
   ]
  }
 ],
 "metadata": {
  "kernelspec": {
   "display_name": "Python 3",
   "language": "python",
   "name": "python3"
  },
  "language_info": {
   "codemirror_mode": {
    "name": "ipython",
    "version": 3
   },
   "file_extension": ".py",
   "mimetype": "text/x-python",
   "name": "python",
   "nbconvert_exporter": "python",
   "pygments_lexer": "ipython3",
   "version": "3.8.6"
  }
 },
 "nbformat": 4,
 "nbformat_minor": 1
}
