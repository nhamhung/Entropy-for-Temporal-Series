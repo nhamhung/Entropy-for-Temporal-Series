{
 "cells": [
  {
   "cell_type": "code",
   "execution_count": 1,
   "metadata": {
    "pycharm": {
     "name": "#%%\n"
    }
   },
   "outputs": [],
   "source": [
    "import matplotlib.pyplot as plt\n",
    "import numpy as np\n",
    "import pandas as pd\n",
    "\n",
    "x = [-0.5, -0.4, -0.3, -0.2, -0.1, 0, 0.1, 0.2, 0.3, 0.4, 0.5, 0.4, 0.3, 0.2, 0.1, 0, -0.1, -0.2, -0.3, -0.4, -0.5]"
   ]
  },
  {
   "cell_type": "markdown",
   "metadata": {
    "pycharm": {
     "name": "#%% md\n"
    }
   },
   "source": [
    "# Approximate Entropy\n",
    "\n",
    "- Set embedding m which is length of each block. Divide the series into blocks and compare their similarity.\n",
    "\n",
    "- Set r which is the noise filter.\n",
    "\n",
    "Starting with first block $x(i) = x(1) = [u(1), u(2)] = [-0.5, -0.4]$, we compare the rest\n",
    "of blocks of length $m = 2$ in the sequence with $x(1)$ to see if the difference between all the positions of the vectors\n",
    "is $\\leq r$. If so, we consider that block 'possible'.\n",
    "\n",
    "First $x(1)$ will compare with itself and would be an\n",
    "obvious coincidence (\"self-counting\", which upon analysis actually implies a statistical bias that would need to be\n",
    "resolved.)\n",
    "\n",
    "Then, $x(j) = x(2) = [u(2), u(3)] = [-0.4, -0.3]$ is compared with $x(1)$ component to component. Their distance between\n",
    "first components $|d[u(1) - u(2)| = |-0.1| \\leq 0.15$ so we check second component. Both satisfies $\\leq r$ so those two\n",
    "blocks of length $m$ are possible.\n",
    "\n",
    "We then check the following component $m + 1$ after those two blocks to see if that component continues meeting the\n",
    "condition, or if there is a pattern. $|d[u(3) - u(4)]| = |d[-0.3, -0.2]| = |-0.1| \\leq 0.15$. This is a match and shows\n",
    "that the pattern continues the same after two blocks.\n",
    "\n",
    "We continue to compare all the remaining blocks up to $j = N - m + 1$ with $x(1)$. Afterwards, we choose $x(2)$ as template\n",
    "and continue in the same way.\n",
    "\n",
    "Note, when we use block $x(9)$ as template, it's easy to prove that block $x(8)$ is a match. For block $x(12)$, even though\n",
    " $|d[u(9) - u(12)]| = |d[0.3, 0.4]| \\leq 0.15$ and $|d[u(10) - u(13)]| = |d[0.4, 0.3]| \\leq 0.15$. However, the next component\n",
    " $|d[u(11) - u(14)]| = |d[0.5, 0.2]| \\geq 0.15$ so $x(9)$ and $x(12)$ is not a match. This is understandable as $x(9)$\n",
    " follows an up-up pattern while $x(12)$ follows a down-down, shown in picture below."
   ]
  },
  {
   "cell_type": "markdown",
   "metadata": {
    "pycharm": {
     "name": "#%% md\n"
    }
   },
   "source": [
    "![](./images/pic1.jpg)"
   ]
  },
  {
   "cell_type": "code",
   "execution_count": 2,
   "metadata": {
    "pycharm": {
     "name": "#%%\n"
    }
   },
   "outputs": [],
   "source": [
    "m = 2\n",
    "r = 0.15"
   ]
  },
  {
   "cell_type": "code",
   "execution_count": 3,
   "metadata": {
    "pycharm": {
     "name": "#%%\n"
    }
   },
   "outputs": [
    {
     "data": {
      "text/plain": [
       "array([[-0.5, -0.4],\n",
       "       [-0.4, -0.3],\n",
       "       [-0.3, -0.2],\n",
       "       [-0.2, -0.1],\n",
       "       [-0.1,  0. ],\n",
       "       [ 0. ,  0.1],\n",
       "       [ 0.1,  0.2],\n",
       "       [ 0.2,  0.3],\n",
       "       [ 0.3,  0.4],\n",
       "       [ 0.4,  0.5],\n",
       "       [ 0.5,  0.4],\n",
       "       [ 0.4,  0.3],\n",
       "       [ 0.3,  0.2],\n",
       "       [ 0.2,  0.1],\n",
       "       [ 0.1,  0. ],\n",
       "       [ 0. , -0.1],\n",
       "       [-0.1, -0.2],\n",
       "       [-0.2, -0.3],\n",
       "       [-0.3, -0.4],\n",
       "       [-0.4, -0.5]])"
      ]
     },
     "execution_count": 3,
     "metadata": {},
     "output_type": "execute_result"
    }
   ],
   "source": [
    "def _embed(x, order=3, delay=1):\n",
    "    N = len(x)\n",
    "    Y = np.zeros((order, N - (order - 1) * delay))\n",
    "    for i in range(order):\n",
    "        Y[i] = x[i * delay:i * delay + Y.shape[1]]\n",
    "    return Y.T\n",
    "\n",
    "_embed(x, order=2)"
   ]
  },
  {
   "cell_type": "markdown",
   "metadata": {
    "pycharm": {
     "name": "#%% md\n"
    }
   },
   "source": [
    "Given that x = [-0.5, -0.4, -0.3, -0.2, -0.1, 0, 0.1, 0.2, 0.3, 0.4, 0.5]. We would get the following probabilities for\n",
    "each block."
   ]
  },
  {
   "cell_type": "code",
   "execution_count": 4,
   "metadata": {
    "pycharm": {
     "name": "#%%\n"
    }
   },
   "outputs": [
    {
     "data": {
      "text/plain": [
       "(10,\n",
       " 9,\n",
       " array([2., 3., 3., 3., 3., 3., 3., 3., 3., 2.]),\n",
       " array([2., 3., 3., 3., 3., 3., 3., 3., 2.]))"
      ]
     },
     "execution_count": 4,
     "metadata": {},
     "output_type": "execute_result"
    }
   ],
   "source": [
    "from sklearn.neighbors import KDTree\n",
    "\n",
    "def match_block(x, order, metric='chebyshev'):\n",
    "    \"\"\"Utility function for `app_entropy`` and `sample_entropy`.\n",
    "    \"\"\"\n",
    "    _all_metrics = KDTree.valid_metrics\n",
    "\n",
    "    phi = np.zeros(2)\n",
    "    # r = 0.2 * np.std(x, ddof=0)\n",
    "    r = 0.15\n",
    "\n",
    "    # compute phi(order, r)\n",
    "    emb_data1 = _embed(x, order, 1)\n",
    "\n",
    "    count1 = KDTree(emb_data1, metric=metric).query_radius(emb_data1, r,\n",
    "                                                           count_only=True\n",
    "                                                           ).astype(np.float64)\n",
    "    emb_data2 = _embed(x, order + 1, 1)\n",
    "    count2 = KDTree(emb_data2, metric=metric).query_radius(emb_data2, r,\n",
    "                                                           count_only=True\n",
    "                                                           ).astype(np.float64)\n",
    "    return emb_data1.shape[0], emb_data2.shape[0], count1, count2\n",
    "\n",
    "x = [-0.5, -0.4, -0.3, -0.2, -0.1, 0, 0.1, 0.2, 0.3, 0.4, 0.5]\n",
    "match_block(x, 2)"
   ]
  },
  {
   "cell_type": "markdown",
   "metadata": {},
   "source": [
    "![](./images/pic2.jpg)"
   ]
  },
  {
   "cell_type": "markdown",
   "metadata": {
    "pycharm": {
     "name": "#%% md\n"
    }
   },
   "source": [
    "Conditional probability $C_i$ is the ratio between the matches over possibles (those cases where only vectors of length\n",
    "$m$ fulfills close condition, but not the following component $m + 1$)."
   ]
  },
  {
   "cell_type": "markdown",
   "metadata": {
    "pycharm": {
     "name": "#%% md\n"
    }
   },
   "source": [
    "With the table of probabilities, we can calculate the average of the logarithm of those probabilities (matches/possibles)\n",
    "and define ApEn as the negative value of that quantity.\n",
    "\n",
    "In the above example, the ApEn is close to 0, implying the series is very predictable."
   ]
  },
  {
   "cell_type": "code",
   "execution_count": 5,
   "metadata": {
    "pycharm": {
     "name": "#%%\n"
    }
   },
   "outputs": [
    {
     "name": "stdout",
     "output_type": "stream",
     "text": [
      "-1.285065825947569 -1.1887156460254797\n"
     ]
    }
   ],
   "source": [
    "shape_1, shape_2, count1, count2 = match_block(x, 2)\n",
    "phi = np.zeros(2)\n",
    "phi[0] = np.mean(np.log(count1 / shape_1))\n",
    "phi[1] = np.mean(np.log(count2 / shape_2))\n",
    "\n",
    "print(phi[0], phi[1])"
   ]
  },
  {
   "cell_type": "code",
   "execution_count": 11,
   "metadata": {
    "pycharm": {
     "name": "#%%\n"
    }
   },
   "outputs": [
    {
     "name": "stdout",
     "output_type": "stream",
     "text": [
      "App Ent:  -0.09635017992208916\n"
     ]
    }
   ],
   "source": [
    "print(\"App Ent: \", np.subtract(phi[0], phi[1]))\n"
   ]
  },
  {
   "cell_type": "markdown",
   "metadata": {
    "pycharm": {
     "name": "#%% md\n"
    }
   },
   "source": [
    "If we extrapolate the previous series [-0.5, -0.4, -0.3, -0.2, -0.1, 0, 0.1, 0.2, 0.3, 0.4, 0.5, 0.4, 0.3, 0.2, 0.1, 0,\n",
    "-0.1, -0.2, -0.3, -0.4] 7 times, and shuffle a copy of it. Even though the 2 series have the same moment statistics, the\n",
    "ApEn is $\\approx 0$ and $0.526$ respectively. ApEn gives lower values to the organized series.\n"
   ]
  },
  {
   "cell_type": "code",
   "execution_count": 7,
   "metadata": {
    "pycharm": {
     "name": "#%%\n"
    }
   },
   "outputs": [],
   "source": [
    "import random\n",
    "x = [-0.5, -0.4, -0.3, -0.2, -0.1, 0, 0.1, 0.2, 0.3, 0.4, 0.5, 0.4, 0.3, 0.2, 0.1, 0, -0.1, -0.2, -0.3, -0.4]\n",
    "extrapolated_series = x * 7\n",
    "extrapolated_series_randomized = extrapolated_series[:]\n",
    "random.shuffle(extrapolated_series_randomized)"
   ]
  },
  {
   "cell_type": "code",
   "execution_count": 8,
   "metadata": {
    "pycharm": {
     "name": "#%%\n"
    }
   },
   "outputs": [
    {
     "data": {
      "text/plain": [
       "<AxesSubplot:>"
      ]
     },
     "execution_count": 8,
     "metadata": {},
     "output_type": "execute_result"
    },
    {
     "data": {
      "image/png": "[encoded data removed]",
      "text/plain": [
       "<Figure size 432x288 with 1 Axes>"
      ]
     },
     "metadata": {
      "needs_background": "light"
     },
     "output_type": "display_data"
    }
   ],
   "source": [
    "pd.Series(extrapolated_series).plot()"
   ]
  },
  {
   "cell_type": "code",
   "execution_count": 9,
   "metadata": {
    "pycharm": {
     "name": "#%%\n"
    }
   },
   "outputs": [
    {
     "data": {
      "text/plain": [
       "<AxesSubplot:>"
      ]
     },
     "execution_count": 9,
     "metadata": {},
     "output_type": "execute_result"
    },
    {
     "data": {
      "image/png": "[encoded data removed]",
      "text/plain": [
       "<Figure size 432x288 with 1 Axes>"
      ]
     },
     "metadata": {
      "needs_background": "light"
     },
     "output_type": "display_data"
    }
   ],
   "source": [
    "pd.Series(extrapolated_series_randomized).plot()"
   ]
  },
  {
   "cell_type": "code",
   "execution_count": 10,
   "metadata": {
    "pycharm": {
     "name": "#%%\n"
    }
   },
   "outputs": [
    {
     "name": "stdout",
     "output_type": "stream",
     "text": [
      "-0.0004698272115795099\n",
      "0.5373827428756073\n"
     ]
    }
   ],
   "source": [
    "from entropy import *\n",
    "\n",
    "print(app_entropy(extrapolated_series))\n",
    "print(app_entropy(extrapolated_series_randomized))"
   ]
  },
  {
   "cell_type": "markdown",
   "metadata": {
    "pycharm": {
     "name": "#%% md\n"
    }
   },
   "source": [
    "Properties of ApEn:\n",
    "1. ApEn statistics independent of any model, so it is suitable for analysis of time series without taking into account\n",
    "anything else but the data\n",
    "2. ApEn is stable to large and infrequent outliers (low probability events).\n",
    "3. ApEn is non-negative. Value is 0 for perfectly regular series.\n",
    "4. ApEn is $ln2$ for totally random binary series, and $lnk$ for alphabets of $k$ symbols.\n",
    "5. ApEn not affected by uniform translation or scaling applied to all terms. ApEn is not invariant under coordinate\n",
    "transformations, hence scale must be fixed.\n",
    "6. ApEn is not fully consistent.\n",
    "7. $m$ should be low (m = 2 or 3)\n",
    "8. $r$ is generally $0.2 * std(series)$\n",
    "9. Number of data required is generally $10^m$ to $30^m$, but since $m$ is small, we only need about $N = 100$\n",
    "10. Systems with substantial noise can undermine ApEn\n",
    "11. ApEn makes use of data vectors $x_i$ instead of probabilities associated with occurrence of each result $p_i$\n",
    "12. ApEn require equally spaced measurements over time\n",
    "13. ApEn is biased statistics\n",
    "    - Due to self-match when calculating $C^{m}_{i}(r)$. The higher N, the lower bias."
   ]
  },
  {
   "cell_type": "markdown",
   "metadata": {
    "pycharm": {
     "name": "#%% md\n"
    }
   },
   "source": [
    "Bias of ApEn:\n",
    "- Suggest more regularity than there is in reality\n",
    "- By allowing each vector to count itself, all functions $C^{m}_{i}(r)$ remains positive to avoid situations where we\n",
    "have to calculate $log(0)$. $C^{m}_{i}(r)$ is basically conditional probabilities calculated as sum of (matches)/(total\n",
    "of possible vectors) among the target vectors, so self-counting allows always at least 1 match and 1 possible vector. If\n",
    "we have $B_i$ as possible vectors and $A_i$ as all the matches, the ApEn calculates $(A_i + 1) / (B_i + 1) which is always\n",
    "greater than $(A_i) / (B_i)$ without bias. This bias is more obvious for samples with small number of points N."
   ]
  },
  {
   "cell_type": "markdown",
   "metadata": {
    "pycharm": {
     "name": "#%% md\n"
    }
   },
   "source": [
    "# Sample Entropy\n",
    "\n",
    "To counter 2 limitations of AppEn: no relative consistency and value dependent on length of data series.\n",
    "\n",
    "SampEn does not have self-counting. $SampEn(m, r, N)$ is negative value of logarithm of the conditional probability that\n",
    "two similar sequences of $m$ points remain similar at the next point $m + 1$, counting each vector over all other vectors\n",
    "**except on itself**.\n",
    "\n",
    "It implies that SampEn maintains the relative consistency and is also mostly independent of the series length."
   ]
  },
  {
   "cell_type": "markdown",
   "metadata": {
    "pycharm": {
     "name": "#%% md\n"
    }
   },
   "source": [
    "Formula:\n",
    "1. Define total number of possible vectors by calculating for each template vector:\n",
    "<img src=\"images/pic3.jpg\" width=\"600\">\n",
    "and adding all template vectors:\n",
    "<img src=\"images/pic4.jpg\" width=\"600\">\n",
    "In the same way, we define total number of matches by calculating for each model vector:\n",
    "<img src=\"images/pic5.jpg\" width=\"600\">"
   ]
  },
  {
   "cell_type": "markdown",
   "metadata": {
    "pycharm": {
     "name": "#%% md\n"
    }
   },
   "source": [
    "Therefore, $B^m(r)$ is the probability that two sequences are similar for $m$ points (possibles), while $A^m(r)$ is the\n",
    "probability that two sequences are similar for $m + 1$ points (matches). Number of matches is always $\\leq$ number of\n",
    "possible vectors, the ratio $A^m(r) / B^m(r)$ is a conditional probability less than unity.\n",
    "\n",
    "Statistic $SampEn(m, r, N) = -log[A^m(r)/B^m(r)]$ is an estimate for $SampEn(m, r)$."
   ]
  },
  {
   "cell_type": "markdown",
   "metadata": {
    "pycharm": {
     "name": "#%% md\n"
    }
   },
   "source": [
    "For ApEn:\n",
    "<img src=\"images/pic6.jpg\" width=\"600\">\n",
    "\n",
    "The error committed in this approximation is $< 0.05$ for $N - m + 1 > 90$ and $< 0.02$ for $N - m + 1 > 283$\n",
    "\n",
    "Comparing the two algorithms:\n",
    "<img src=\"images/pic7.jpg\" width=\"600\">\n",
    "\n",
    "1. SampEn no self-counting $(j != i)$ while ApEn does\n",
    "2. Sum of all template vectors is inside the logarithm in SampEn and outside in ApEn. It implies SampEn considers the\n",
    "complete series and if a template finds a match, then SampEn is already defined, while ApEn needs a match for each template.\n",
    "Jensen's inequality says $log(\\sum) > \\sum log$ so the term is greater in SampEn than in ApEn.\n",
    "3. ApEn includes a factor $\\frac{1}{N-m}$ which makes the statistic dependent on size of the series, whereas SampEn does\n",
    "not include it.\n",
    "\n",
    "\n"
   ]
  }
 ],
 "metadata": {
  "kernelspec": {
   "display_name": "Python 3",
   "language": "python",
   "name": "python3"
  },
  "language_info": {
   "codemirror_mode": {
    "name": "ipython",
    "version": 3
   },
   "file_extension": ".py",
   "mimetype": "text/x-python",
   "name": "python",
   "nbconvert_exporter": "python",
   "pygments_lexer": "ipython3",
   "version": "3.8.6"
  }
 },
 "nbformat": 4,
 "nbformat_minor": 1
}
