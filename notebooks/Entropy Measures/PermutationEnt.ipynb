{
 "cells": [
  {
   "cell_type": "markdown",
   "metadata": {
    "collapsed": true,
    "pycharm": {
     "name": "#%% md\n"
    }
   },
   "source": [
    "# Permutation Entropy\n",
    "\n",
    "Define simple complexity measures which are easily calculated for any time of time series where regular, chaotic, noisy or reality based.\n",
    "\n",
    "## Example\n",
    "\n",
    "Given a series with 7 values:\n",
    "$$x = (4,7,9,10,6,11,3)$$"
   ]
  },
  {
   "cell_type": "markdown",
   "source": [
    "Organize 6 pairs of neighbors, according to their relative values, and find 4 pairs/6 with $x_t < x_{t+1}$, represented\n",
    "by permutation $01$ and 2 pairs/6 with $x_t > x_{t+1}$ represented by $10$. Define permutation entropy of order $n = 2$\n",
    "as a measure of probabilities of permutations 01 and 10. $$H(2) = -(4/6)log(4/6) - (2/6)log(2/6) \\approx 0.918$$\n",
    "\n",
    "Since log is usually with base 2, so $H$ is given in bit.\n",
    "\n",
    "Next, compare three consecutive values, (4,7,9), (7,9,10) and so on. (4,7,9) and (7,9,10) represent permutation 012 due to increasing order.\n",
    "$$H(3) = -2(2/5)log(2/5) - (1/5)log(1/5) \\approx 1.522$$"
   ],
   "metadata": {
    "collapsed": false,
    "pycharm": {
     "name": "#%% md\n"
    }
   }
  },
  {
   "cell_type": "markdown",
   "source": [
    "## Formula\n",
    "\n",
    "Consider a time series $\\{x_t\\}_{t=1,...,T}$. We study all $n!$ permutations $\\pi$ of order $n$ which are considered as possible order types of n different numbers. For each $\\pi$ we determine relative frequence (# for number)\n",
    "\n",
    "$$p(\\pi) = \\frac{\\#\\{t|t \\leq T-n, (x_{t+1},...,x_{t+n}) \\text{ has type } \\pi\\}}{T-n+1}$$\n",
    "\n",
    "This estimates the frequency of $\\pi$ as good as possible for a finite series of values.\n",
    "\n",
    "The permutation entropy of order $n \\geq 2$ is:\n",
    "$$H(n) = - \\sum p(\\pi) log p(\\pi)$$\n",
    "where sum runs over all $n!$ permutations $\\pi$ of order $n$."
   ],
   "metadata": {
    "collapsed": false,
    "pycharm": {
     "name": "#%% md\n"
    }
   }
  },
  {
   "cell_type": "markdown",
   "source": [
    "- Define series, order and delay"
   ],
   "metadata": {
    "collapsed": false,
    "pycharm": {
     "name": "#%% md\n"
    }
   }
  },
  {
   "cell_type": "code",
   "execution_count": 1,
   "outputs": [],
   "source": [
    "import numpy as np\n",
    "import pandas as pd\n",
    "\n",
    "series = np.array([4, 7, 9, 10, 6, 11, 3])\n",
    "order = 3\n",
    "delay = 1\n",
    "normalized = False\n",
    "\n",
    "def _embed(x, order=3, delay=1):\n",
    "    N = len(x)\n",
    "    Y = np.zeros((order, N - (order - 1) * delay))\n",
    "    for i in range(order):\n",
    "        Y[i] = x[i * delay:i * delay + Y.shape[1]]\n",
    "    return Y.T"
   ],
   "metadata": {
    "collapsed": false,
    "pycharm": {
     "name": "#%%\n"
    }
   }
  },
  {
   "cell_type": "markdown",
   "source": [
    "- Prepare hash multiplier to later compute unique hash value for each for each permutation $\\pi$"
   ],
   "metadata": {
    "collapsed": false,
    "pycharm": {
     "name": "#%% md\n"
    }
   }
  },
  {
   "cell_type": "code",
   "execution_count": 2,
   "outputs": [
    {
     "data": {
      "text/plain": "array([1, 3, 9], dtype=int32)"
     },
     "execution_count": 2,
     "metadata": {},
     "output_type": "execute_result"
    }
   ],
   "source": [
    "ran_order = range(order) # 0, 1, 2\n",
    "hashmult = np.power(order, ran_order)\n",
    "hashmult"
   ],
   "metadata": {
    "collapsed": false,
    "pycharm": {
     "name": "#%%\n"
    }
   }
  },
  {
   "cell_type": "markdown",
   "source": [
    "- Embed the series with order = 3, similar to other entropy measures"
   ],
   "metadata": {
    "collapsed": false,
    "pycharm": {
     "name": "#%% md\n"
    }
   }
  },
  {
   "cell_type": "code",
   "execution_count": 3,
   "outputs": [
    {
     "data": {
      "text/plain": "array([[ 4.,  7.,  9.],\n       [ 7.,  9., 10.],\n       [ 9., 10.,  6.],\n       [10.,  6., 11.],\n       [ 6., 11.,  3.]])"
     },
     "execution_count": 3,
     "metadata": {},
     "output_type": "execute_result"
    }
   ],
   "source": [
    "embed = _embed(series, order=order, delay=delay)\n",
    "embed"
   ],
   "metadata": {
    "collapsed": false,
    "pycharm": {
     "name": "#%%\n"
    }
   }
  },
  {
   "cell_type": "markdown",
   "source": [
    "- Convert each permutation to index representation\n",
    "- Sort entropy index\n",
    "`[9, 10, 6]` when sorted by index will be `[2, 0, 1]`"
   ],
   "metadata": {
    "collapsed": false,
    "pycharm": {
     "name": "#%% md\n"
    }
   }
  },
  {
   "cell_type": "code",
   "execution_count": 4,
   "outputs": [
    {
     "data": {
      "text/plain": "array([[0, 1, 2],\n       [0, 1, 2],\n       [2, 0, 1],\n       [1, 0, 2],\n       [2, 0, 1]], dtype=int64)"
     },
     "execution_count": 4,
     "metadata": {},
     "output_type": "execute_result"
    }
   ],
   "source": [
    "sorted_idx = embed.argsort(kind='quicksort')\n",
    "sorted_idx"
   ],
   "metadata": {
    "collapsed": false,
    "pycharm": {
     "name": "#%%\n"
    }
   }
  },
  {
   "cell_type": "markdown",
   "source": [
    "- Associate unique integer to each permutation\n",
    "`[0, 1, 2] * [1, 3, 9] = [0, 3, 18]` summed across axis 1 to be `21`"
   ],
   "metadata": {
    "collapsed": false,
    "pycharm": {
     "name": "#%% md\n"
    }
   },
   "outputs": [
    {
     "ename": "SyntaxError",
     "evalue": "invalid syntax (<ipython-input-19-4b660d2b7156>, line 1)",
     "output_type": "error",
     "traceback": [
      "\u001B[1;36m  File \u001B[1;32m\"<ipython-input-19-4b660d2b7156>\"\u001B[1;36m, line \u001B[1;32m1\u001B[0m\n\u001B[1;33m    Associate unique integer to each permutations\u001B[0m\n\u001B[1;37m              ^\u001B[0m\n\u001B[1;31mSyntaxError\u001B[0m\u001B[1;31m:\u001B[0m invalid syntax\n"
     ]
    }
   ]
  },
  {
   "cell_type": "code",
   "execution_count": 5,
   "outputs": [
    {
     "data": {
      "text/plain": "array([21, 21, 11, 19, 11], dtype=int64)"
     },
     "execution_count": 5,
     "metadata": {},
     "output_type": "execute_result"
    }
   ],
   "source": [
    "hashval = (np.multiply(sorted_idx, hashmult)).sum(1)\n",
    "hashval"
   ],
   "metadata": {
    "collapsed": false,
    "pycharm": {
     "name": "#%%\n"
    }
   }
  },
  {
   "cell_type": "markdown",
   "source": [
    "- Count unique permutations"
   ],
   "metadata": {
    "collapsed": false,
    "pycharm": {
     "name": "#%% md\n"
    }
   }
  },
  {
   "cell_type": "code",
   "execution_count": 6,
   "outputs": [
    {
     "data": {
      "text/plain": "array([2, 1, 2], dtype=int64)"
     },
     "execution_count": 6,
     "metadata": {},
     "output_type": "execute_result"
    }
   ],
   "source": [
    "_, c = np.unique(hashval, return_counts=True)\n",
    "c"
   ],
   "metadata": {
    "collapsed": false,
    "pycharm": {
     "name": "#%%\n"
    }
   }
  },
  {
   "cell_type": "markdown",
   "source": [
    "- Calculate probability for each permutation"
   ],
   "metadata": {
    "collapsed": false,
    "pycharm": {
     "name": "#%% md\n"
    }
   },
   "outputs": [
    {
     "ename": "SyntaxError",
     "evalue": "invalid syntax (<ipython-input-25-dd3f069836e5>, line 1)",
     "output_type": "error",
     "traceback": [
      "\u001B[1;36m  File \u001B[1;32m\"<ipython-input-25-dd3f069836e5>\"\u001B[1;36m, line \u001B[1;32m1\u001B[0m\n\u001B[1;33m    Calculate probability\u001B[0m\n\u001B[1;37m              ^\u001B[0m\n\u001B[1;31mSyntaxError\u001B[0m\u001B[1;31m:\u001B[0m invalid syntax\n"
     ]
    }
   ]
  },
  {
   "cell_type": "code",
   "execution_count": 7,
   "outputs": [
    {
     "data": {
      "text/plain": "array([0.4, 0.2, 0.4])"
     },
     "execution_count": 7,
     "metadata": {},
     "output_type": "execute_result"
    }
   ],
   "source": [
    "p = np.true_divide(c, c.sum())\n",
    "p"
   ],
   "metadata": {
    "collapsed": false,
    "pycharm": {
     "name": "#%%\n"
    }
   }
  },
  {
   "cell_type": "markdown",
   "source": [
    "- Calculate Permutation Entropy based on formula:\n",
    "\n",
    "$$H(n) = - \\sum p(\\pi) log p(\\pi)$$"
   ],
   "metadata": {
    "collapsed": false,
    "pycharm": {
     "name": "#%% md\n"
    }
   }
  },
  {
   "cell_type": "code",
   "execution_count": 8,
   "outputs": [
    {
     "name": "stdout",
     "output_type": "stream",
     "text": [
      "Perm Ent:  1.5219280948873621\n"
     ]
    }
   ],
   "source": [
    "pe = -np.multiply(p, np.log2(p)).sum()\n",
    "print(\"Perm Ent: \", pe)"
   ],
   "metadata": {
    "collapsed": false,
    "pycharm": {
     "name": "#%%\n"
    }
   }
  },
  {
   "cell_type": "markdown",
   "source": [
    "- If we want to obtain normalized entropy:\n",
    "$$\\frac{H(n)}{logn!}$$"
   ],
   "metadata": {
    "collapsed": false,
    "pycharm": {
     "name": "#%% md\n"
    }
   }
  },
  {
   "cell_type": "code",
   "execution_count": 9,
   "outputs": [
    {
     "name": "stdout",
     "output_type": "stream",
     "text": [
      "Normalized Perm Ent:  0.5887621559162939\n"
     ]
    }
   ],
   "source": [
    "import math\n",
    "\n",
    "normalized_pe = pe / np.log2(math.factorial(order))\n",
    "print(\"Normalized Perm Ent: \", normalized_pe)\n"
   ],
   "metadata": {
    "collapsed": false,
    "pycharm": {
     "name": "#%%\n"
    }
   }
  }
 ],
 "metadata": {
  "kernelspec": {
   "display_name": "Python 3",
   "language": "python",
   "name": "python3"
  },
  "language_info": {
   "codemirror_mode": {
    "name": "ipython",
    "version": 2
   },
   "file_extension": ".py",
   "mimetype": "text/x-python",
   "name": "python",
   "nbconvert_exporter": "python",
   "pygments_lexer": "ipython2",
   "version": "2.7.6"
  }
 },
 "nbformat": 4,
 "nbformat_minor": 0
}